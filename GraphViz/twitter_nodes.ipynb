{
 "cells": [
  {
   "cell_type": "code",
   "execution_count": 1,
   "metadata": {
    "collapsed": true
   },
   "outputs": [],
   "source": [
    "from subprocess import check_output\n",
    "import csv"
   ]
  },
  {
   "cell_type": "code",
   "execution_count": 12,
   "metadata": {
    "collapsed": true
   },
   "outputs": [],
   "source": [
    "check_output(['ls','../Project2'])\n",
    "nodes=set()\n",
    "written_nodes=[]"
   ]
  },
  {
   "cell_type": "code",
   "execution_count": 13,
   "metadata": {},
   "outputs": [],
   "source": [
    "with open(\"twitter_combined.txt\",'r') as f:\n",
    "    reader=csv.reader(f,delimiter=' ')\n",
    "    i=0\n",
    "    for x in reader:\n",
    "        #print(x)\n",
    "        #i+=1\n",
    "        nodes.add(x[0])\n",
    "        nodes.add(x[1])\n",
    "        #if i==10:\n",
    "        #    break\n",
    "        \n",
    "        \n",
    "with open(\"twitter_nodes.txt\",\"w\") as f1:\n",
    "    for x in nodes:  \n",
    "        i+=1\n",
    "        written_nodes.append(x)\n",
    "        f1.write(x+\"\\n\")\n",
    "        if i==100:\n",
    "            break"
   ]
  },
  {
   "cell_type": "code",
   "execution_count": 34,
   "metadata": {},
   "outputs": [],
   "source": [
    "len(written_nodes)\n",
    "\n",
    "\n",
    "def contains(l,n):\n",
    "    if len([x for x in l if x==n])>0:\n",
    "        #print(x)\n",
    "        return True\n",
    "    else:\n",
    "        #print(x)\n",
    "        return False"
   ]
  },
  {
   "cell_type": "code",
   "execution_count": 28,
   "metadata": {},
   "outputs": [
    {
     "name": "stdout",
     "output_type": "stream",
     "text": [
      "204841352\n"
     ]
    },
    {
     "data": {
      "text/plain": [
       "True"
      ]
     },
     "execution_count": 28,
     "metadata": {},
     "output_type": "execute_result"
    }
   ],
   "source": [
    "contains(written_nodes,27164420)\n",
    "\n",
    "#[x for x in written_nodes if x=='27164420']\n",
    "#written_nodes"
   ]
  },
  {
   "cell_type": "code",
   "execution_count": 37,
   "metadata": {},
   "outputs": [],
   "source": [
    "with open(\"twitter_edges.txt\",\"w\") as f1:    \n",
    "    with open(\"twitter_combined.txt\",'r') as f2:\n",
    "        reader=csv.reader(f2,delimiter=' ')\n",
    "        \n",
    "        for x in reader:\n",
    "            if contains(written_nodes,x[0])==True and contains(written_nodes,x[1])==True:\n",
    "                f1.write(x[0]+\",\"+x[1]+\"\\n\")\n",
    "    \n",
    "    "
   ]
  }
 ],
 "metadata": {
  "kernelspec": {
   "display_name": "Python 3",
   "language": "python",
   "name": "python3"
  },
  "language_info": {
   "codemirror_mode": {
    "name": "ipython",
    "version": 3
   },
   "file_extension": ".py",
   "mimetype": "text/x-python",
   "name": "python",
   "nbconvert_exporter": "python",
   "pygments_lexer": "ipython3",
   "version": "3.6.2"
  }
 },
 "nbformat": 4,
 "nbformat_minor": 2
}
